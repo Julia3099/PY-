{
 "cells": [
  {
   "cell_type": "markdown",
   "metadata": {},
   "source": [
    "## Домашнее задание 1:\n",
    "Оформляйте ноутбук, используя эти советы:\n",
    "\n",
    "Номер задачи - заголовок 2\n",
    "\n",
    "Номер подзадачи - заголовок 3\n",
    "\n",
    "Предоставленные наборы данных оформляйте, как код"
   ]
  },
  {
   "cell_type": "markdown",
   "metadata": {},
   "source": [
    "## Домашнее задание 2:\n",
    "На складе лежат разные фрукты в разном количестве.\n",
    "Нужно написать функцию, которая на вход принимает любое количество названий фруктов и их количество, а возвращает общее количество фруктов на складе"
   ]
  },
  {
   "cell_type": "code",
   "execution_count": 21,
   "metadata": {},
   "outputs": [
    {
     "name": "stdout",
     "output_type": "stream",
     "text": [
      "Sum fruits: 66\n"
     ]
    }
   ],
   "source": [
    "def fruits(**kwargs):\n",
    "    \n",
    "    sum_fruits = sum(kwargs.values())\n",
    "    \n",
    "    return f'Sum fruits: {sum_fruits}'\n",
    "print(fruits(peaches=50, kiwi=12, bananas=4))"
   ]
  },
  {
   "cell_type": "markdown",
   "metadata": {},
   "source": [
    "## Домашнее задание 3\n",
    "Дан список с затратами на рекламу. Но в данных есть ошибки,\n",
    "некоторые затраты имеют отрицательную величину. Удалите\n",
    "такие значения из списка и посчитайте суммарные затраты\n",
    "\n",
    "[100, 125, -90, 345, 655, -1, 0, 200]\n",
    "\n",
    "Используйте list comprehensions"
   ]
  },
  {
   "cell_type": "code",
   "execution_count": 22,
   "metadata": {},
   "outputs": [
    {
     "name": "stdout",
     "output_type": "stream",
     "text": [
      "[1000, 12500, 6380, 1505, 5555, 233]\n",
      "Sum expenses: 27173\n"
     ]
    }
   ],
   "source": [
    "def advertising_expenses(data: list):\n",
    "    \n",
    "    new_data = []\n",
    "    \n",
    "    for i in data:\n",
    "        if i > 0:\n",
    "            new_data.append(i)\n",
    "            \n",
    "    print(new_data)\n",
    "    print(f'Sum expenses: {sum(new_data)}')\n",
    "data = [1000, 12500, -90000, 6380, 1505, -1000, 0, 5555, 233]\n",
    "\n",
    "advertising_expenses(data)"
   ]
  },
  {
   "cell_type": "markdown",
   "metadata": {},
   "source": [
    "## Домашнее задание 4\n",
    "Даны два списка.\n",
    "\n",
    "Дата покупки\n",
    "\n",
    "['2021-09-14', '2021-12-15', '2021-09-08', '2021-12-05', '2021-10-09', '2021-09-30', '2021-12-22', '2021-11-29', '2021-12-24', '2021-11-26', '2021-10-27', '2021-12-18', '2021-11-09', '2021-11-23', '2021-09-27',\n",
    "'2021-10-02', '2021-12-27', '2021-09-20', '2021-12-13', '2021-11-01', '2021-11-09', '2021-12-06', '2021-12-08', '2021-10-09', '2021-10-31', '2021-09-30', '2021-11-09', '2021-12-13', '2021-10-26', '2021-12-09']\n",
    "\n",
    "Суммы покупок по датам\n",
    "\n",
    "[1270, 8413, 9028, 3703, 5739, 4095, 295, 4944, 5723, 3701, 4471, 651, 7037, 4274, 6275, 4988, 6930, 2971, 6592, 2004, 2822, 519, 3406, 2732, 5015, 2008, 316, 6333, 5700, 2887]\n",
    "\n",
    "### 4.1 Найдите, какая выручка у компании в ноябре\n",
    "Используйте list comprehensions\n"
   ]
  },
  {
   "cell_type": "code",
   "execution_count": 23,
   "metadata": {},
   "outputs": [
    {
     "name": "stdout",
     "output_type": "stream",
     "text": [
      "[4944, 3701, 7037, 4274, 2004, 2822, 316]\n",
      "Profit: 25098\n"
     ]
    }
   ],
   "source": [
    "date = ['2021-09-14', '2021-12-15', '2021-09-08', '2021-12-05', '2021-10-09', \n",
    "        '2021-09-30', '2021-12-22', '2021-11-29', '2021-12-24', '2021-11-26', \n",
    "        '2021-10-27', '2021-12-18', '2021-11-09', '2021-11-23', '2021-09-27', \n",
    "        '2021-10-02', '2021-12-27', '2021-09-20', '2021-12-13', '2021-11-01', \n",
    "        '2021-11-09', '2021-12-06', '2021-12-08', '2021-10-09', '2021-10-31', \n",
    "        '2021-09-30', '2021-11-09', '2021-12-13', '2021-10-26', '2021-12-09']\n",
    "amount = [1270, 8413, 9028, 3703, 5739, 4095, 295, 4944, 5723, 3701, \n",
    "        4471, 651, 7037, 4274, 6275, 4988, 6930, 2971, 6592, 2004, \n",
    "        2822, 519, 3406, 2732, 5015, 2008, 316, 6333, 5700, 2887]\n",
    "def november(data1: list, data2: list) -> list:\n",
    "    \n",
    "    new_data = []\n",
    "    \n",
    "    for i in range(len(data1)-1):\n",
    "        if '-11-' in data1[i]:\n",
    "            new_data.append(data2[i])\n",
    "            \n",
    "    return new_data\n",
    "print([amount[i] for i in range(0, len(date)-1) if \"-11\" in date[i]])\n",
    "print(f'Profit: {sum([amount[i] for i in range(len(date)-1) if \"-11\" in date[i]])}')"
   ]
  },
  {
   "cell_type": "markdown",
   "metadata": {},
   "source": [
    "### 4.2 Найдите выручку компании в зависимости от месяца\n",
    "Для этого напишите функцию, которая на вход принимает список с датами и список с выручкой, а на выходе словарь, где\n",
    "ключи - это месяцы, а значения - это выручка.\n",
    "\n",
    "Используйте аннотирование типов."
   ]
  },
  {
   "cell_type": "code",
   "execution_count": 24,
   "metadata": {},
   "outputs": [
    {
     "name": "stdout",
     "output_type": "stream",
     "text": [
      "{'09': 25647, '12': 45452, '10': 28645, '11': 25098}\n"
     ]
    }
   ],
   "source": [
    "def revenue(data1: list, data2: list) -> dict:\n",
    "    \n",
    "    revenue = {}\n",
    "    \n",
    "    for i in range(len(data1)):\n",
    "        \n",
    "        if date[i].split('-')[1] in revenue.keys():\n",
    "            revenue[date[i].split('-')[1]] += amount[i]\n",
    "        else:\n",
    "            revenue[date[i].split('-')[1]] = amount[i]\n",
    "            \n",
    "    return revenue\n",
    "\n",
    "print(revenue(date, amount))"
   ]
  }
 ],
 "metadata": {
  "kernelspec": {
   "display_name": "Python 3",
   "language": "python",
   "name": "python3"
  },
  "language_info": {
   "codemirror_mode": {
    "name": "ipython",
    "version": 3
   },
   "file_extension": ".py",
   "mimetype": "text/x-python",
   "name": "python",
   "nbconvert_exporter": "python",
   "pygments_lexer": "ipython3",
   "version": "3.10.11"
  },
  "orig_nbformat": 4
 },
 "nbformat": 4,
 "nbformat_minor": 2
}
